{
 "cells": [
  {
   "cell_type": "markdown",
   "id": "c8b3db5c",
   "metadata": {},
   "source": [
    "# Employment DataBase"
   ]
  },
  {
   "cell_type": "code",
   "execution_count": 3,
   "id": "65e491db",
   "metadata": {},
   "outputs": [],
   "source": [
    "import psycopg2\n",
    "import pandas as pd\n",
    "import numpy as np\n",
    "import matplotlib.pyplot as plt\n",
    "import seaborn as sns\n",
    "import warnings; warnings.filterwarnings(\"ignore\")"
   ]
  },
  {
   "cell_type": "code",
   "execution_count": 4,
   "id": "6891e48d",
   "metadata": {},
   "outputs": [],
   "source": [
    "def connect_to_db():\n",
    "    connection = psycopg2.connect(user = 'postgres' , password = 1212,\n",
    "                                host = 'localhost',\n",
    "                                port = 5432,\n",
    "                                database = 'employee_db')\n",
    "    return connection\n",
    "connection = connect_to_db()    "
   ]
  },
  {
   "cell_type": "markdown",
   "id": "59b56723",
   "metadata": {},
   "source": [
    "### Checking all the tables"
   ]
  },
  {
   "cell_type": "code",
   "execution_count": 5,
   "id": "18cb0aac",
   "metadata": {
    "scrolled": true
   },
   "outputs": [
    {
     "data": {
      "text/html": [
       "<div>\n",
       "<style scoped>\n",
       "    .dataframe tbody tr th:only-of-type {\n",
       "        vertical-align: middle;\n",
       "    }\n",
       "\n",
       "    .dataframe tbody tr th {\n",
       "        vertical-align: top;\n",
       "    }\n",
       "\n",
       "    .dataframe thead th {\n",
       "        text-align: right;\n",
       "    }\n",
       "</style>\n",
       "<table border=\"1\" class=\"dataframe\">\n",
       "  <thead>\n",
       "    <tr style=\"text-align: right;\">\n",
       "      <th></th>\n",
       "      <th>id</th>\n",
       "      <th>dept_name</th>\n",
       "    </tr>\n",
       "  </thead>\n",
       "  <tbody>\n",
       "    <tr>\n",
       "      <th>0</th>\n",
       "      <td>d001</td>\n",
       "      <td>Marketing</td>\n",
       "    </tr>\n",
       "    <tr>\n",
       "      <th>1</th>\n",
       "      <td>d002</td>\n",
       "      <td>Finance</td>\n",
       "    </tr>\n",
       "    <tr>\n",
       "      <th>2</th>\n",
       "      <td>d003</td>\n",
       "      <td>Human Resources</td>\n",
       "    </tr>\n",
       "    <tr>\n",
       "      <th>3</th>\n",
       "      <td>d004</td>\n",
       "      <td>Production</td>\n",
       "    </tr>\n",
       "    <tr>\n",
       "      <th>4</th>\n",
       "      <td>d005</td>\n",
       "      <td>Development</td>\n",
       "    </tr>\n",
       "    <tr>\n",
       "      <th>5</th>\n",
       "      <td>d006</td>\n",
       "      <td>Quality Management</td>\n",
       "    </tr>\n",
       "    <tr>\n",
       "      <th>6</th>\n",
       "      <td>d007</td>\n",
       "      <td>Sales</td>\n",
       "    </tr>\n",
       "    <tr>\n",
       "      <th>7</th>\n",
       "      <td>d008</td>\n",
       "      <td>Research</td>\n",
       "    </tr>\n",
       "    <tr>\n",
       "      <th>8</th>\n",
       "      <td>d009</td>\n",
       "      <td>Customer Service</td>\n",
       "    </tr>\n",
       "  </tbody>\n",
       "</table>\n",
       "</div>"
      ],
      "text/plain": [
       "     id           dept_name\n",
       "0  d001           Marketing\n",
       "1  d002             Finance\n",
       "2  d003     Human Resources\n",
       "3  d004          Production\n",
       "4  d005         Development\n",
       "5  d006  Quality Management\n",
       "6  d007               Sales\n",
       "7  d008            Research\n",
       "8  d009    Customer Service"
      ]
     },
     "execution_count": 5,
     "metadata": {},
     "output_type": "execute_result"
    }
   ],
   "source": [
    "department_name = pd.read_sql_query(\"select * from employees.department\",connection)\n",
    "department_name"
   ]
  },
  {
   "cell_type": "code",
   "execution_count": 6,
   "id": "71195b70",
   "metadata": {},
   "outputs": [
    {
     "data": {
      "text/html": [
       "<div>\n",
       "<style scoped>\n",
       "    .dataframe tbody tr th:only-of-type {\n",
       "        vertical-align: middle;\n",
       "    }\n",
       "\n",
       "    .dataframe tbody tr th {\n",
       "        vertical-align: top;\n",
       "    }\n",
       "\n",
       "    .dataframe thead th {\n",
       "        text-align: right;\n",
       "    }\n",
       "</style>\n",
       "<table border=\"1\" class=\"dataframe\">\n",
       "  <thead>\n",
       "    <tr style=\"text-align: right;\">\n",
       "      <th></th>\n",
       "      <th>employee_id</th>\n",
       "      <th>department_id</th>\n",
       "      <th>from_date</th>\n",
       "      <th>to_date</th>\n",
       "    </tr>\n",
       "  </thead>\n",
       "  <tbody>\n",
       "    <tr>\n",
       "      <th>0</th>\n",
       "      <td>10001</td>\n",
       "      <td>d005</td>\n",
       "      <td>1986-06-26</td>\n",
       "      <td>9999-01-01</td>\n",
       "    </tr>\n",
       "    <tr>\n",
       "      <th>1</th>\n",
       "      <td>10002</td>\n",
       "      <td>d007</td>\n",
       "      <td>1996-08-03</td>\n",
       "      <td>9999-01-01</td>\n",
       "    </tr>\n",
       "    <tr>\n",
       "      <th>2</th>\n",
       "      <td>10003</td>\n",
       "      <td>d004</td>\n",
       "      <td>1995-12-03</td>\n",
       "      <td>9999-01-01</td>\n",
       "    </tr>\n",
       "    <tr>\n",
       "      <th>3</th>\n",
       "      <td>10004</td>\n",
       "      <td>d004</td>\n",
       "      <td>1986-12-01</td>\n",
       "      <td>9999-01-01</td>\n",
       "    </tr>\n",
       "    <tr>\n",
       "      <th>4</th>\n",
       "      <td>10005</td>\n",
       "      <td>d003</td>\n",
       "      <td>1989-09-12</td>\n",
       "      <td>9999-01-01</td>\n",
       "    </tr>\n",
       "  </tbody>\n",
       "</table>\n",
       "</div>"
      ],
      "text/plain": [
       "   employee_id department_id   from_date     to_date\n",
       "0        10001          d005  1986-06-26  9999-01-01\n",
       "1        10002          d007  1996-08-03  9999-01-01\n",
       "2        10003          d004  1995-12-03  9999-01-01\n",
       "3        10004          d004  1986-12-01  9999-01-01\n",
       "4        10005          d003  1989-09-12  9999-01-01"
      ]
     },
     "execution_count": 6,
     "metadata": {},
     "output_type": "execute_result"
    }
   ],
   "source": [
    "department_employee = pd.read_sql_query(\"select * from employees.department_employee\",connection)\n",
    "department_employee.head()"
   ]
  },
  {
   "cell_type": "code",
   "execution_count": 7,
   "id": "17cc7a68",
   "metadata": {},
   "outputs": [
    {
     "data": {
      "text/html": [
       "<div>\n",
       "<style scoped>\n",
       "    .dataframe tbody tr th:only-of-type {\n",
       "        vertical-align: middle;\n",
       "    }\n",
       "\n",
       "    .dataframe tbody tr th {\n",
       "        vertical-align: top;\n",
       "    }\n",
       "\n",
       "    .dataframe thead th {\n",
       "        text-align: right;\n",
       "    }\n",
       "</style>\n",
       "<table border=\"1\" class=\"dataframe\">\n",
       "  <thead>\n",
       "    <tr style=\"text-align: right;\">\n",
       "      <th></th>\n",
       "      <th>employee_id</th>\n",
       "      <th>department_id</th>\n",
       "      <th>from_date</th>\n",
       "      <th>to_date</th>\n",
       "    </tr>\n",
       "  </thead>\n",
       "  <tbody>\n",
       "    <tr>\n",
       "      <th>0</th>\n",
       "      <td>110022</td>\n",
       "      <td>d001</td>\n",
       "      <td>1985-01-01</td>\n",
       "      <td>1991-10-01</td>\n",
       "    </tr>\n",
       "    <tr>\n",
       "      <th>1</th>\n",
       "      <td>110039</td>\n",
       "      <td>d001</td>\n",
       "      <td>1991-10-01</td>\n",
       "      <td>9999-01-01</td>\n",
       "    </tr>\n",
       "    <tr>\n",
       "      <th>2</th>\n",
       "      <td>110085</td>\n",
       "      <td>d002</td>\n",
       "      <td>1985-01-01</td>\n",
       "      <td>1989-12-17</td>\n",
       "    </tr>\n",
       "    <tr>\n",
       "      <th>3</th>\n",
       "      <td>110114</td>\n",
       "      <td>d002</td>\n",
       "      <td>1989-12-17</td>\n",
       "      <td>9999-01-01</td>\n",
       "    </tr>\n",
       "    <tr>\n",
       "      <th>4</th>\n",
       "      <td>110183</td>\n",
       "      <td>d003</td>\n",
       "      <td>1985-01-01</td>\n",
       "      <td>1992-03-21</td>\n",
       "    </tr>\n",
       "  </tbody>\n",
       "</table>\n",
       "</div>"
      ],
      "text/plain": [
       "   employee_id department_id   from_date     to_date\n",
       "0       110022          d001  1985-01-01  1991-10-01\n",
       "1       110039          d001  1991-10-01  9999-01-01\n",
       "2       110085          d002  1985-01-01  1989-12-17\n",
       "3       110114          d002  1989-12-17  9999-01-01\n",
       "4       110183          d003  1985-01-01  1992-03-21"
      ]
     },
     "execution_count": 7,
     "metadata": {},
     "output_type": "execute_result"
    }
   ],
   "source": [
    "department_manager =  pd.read_sql_query(\"select * from employees.department_manager\",connection)\n",
    "department_manager.head()"
   ]
  },
  {
   "cell_type": "code",
   "execution_count": 8,
   "id": "73d51fc0",
   "metadata": {},
   "outputs": [
    {
     "data": {
      "text/html": [
       "<div>\n",
       "<style scoped>\n",
       "    .dataframe tbody tr th:only-of-type {\n",
       "        vertical-align: middle;\n",
       "    }\n",
       "\n",
       "    .dataframe tbody tr th {\n",
       "        vertical-align: top;\n",
       "    }\n",
       "\n",
       "    .dataframe thead th {\n",
       "        text-align: right;\n",
       "    }\n",
       "</style>\n",
       "<table border=\"1\" class=\"dataframe\">\n",
       "  <thead>\n",
       "    <tr style=\"text-align: right;\">\n",
       "      <th></th>\n",
       "      <th>id</th>\n",
       "      <th>birth_date</th>\n",
       "      <th>first_name</th>\n",
       "      <th>last_name</th>\n",
       "      <th>gender</th>\n",
       "      <th>hire_date</th>\n",
       "    </tr>\n",
       "  </thead>\n",
       "  <tbody>\n",
       "    <tr>\n",
       "      <th>0</th>\n",
       "      <td>10001</td>\n",
       "      <td>1953-09-02</td>\n",
       "      <td>Georgi</td>\n",
       "      <td>Facello</td>\n",
       "      <td>M</td>\n",
       "      <td>1986-06-26</td>\n",
       "    </tr>\n",
       "    <tr>\n",
       "      <th>1</th>\n",
       "      <td>10002</td>\n",
       "      <td>1964-06-02</td>\n",
       "      <td>Bezalel</td>\n",
       "      <td>Simmel</td>\n",
       "      <td>F</td>\n",
       "      <td>1985-11-21</td>\n",
       "    </tr>\n",
       "    <tr>\n",
       "      <th>2</th>\n",
       "      <td>10003</td>\n",
       "      <td>1959-12-03</td>\n",
       "      <td>Parto</td>\n",
       "      <td>Bamford</td>\n",
       "      <td>M</td>\n",
       "      <td>1986-08-28</td>\n",
       "    </tr>\n",
       "    <tr>\n",
       "      <th>3</th>\n",
       "      <td>10004</td>\n",
       "      <td>1954-05-01</td>\n",
       "      <td>Chirstian</td>\n",
       "      <td>Koblick</td>\n",
       "      <td>M</td>\n",
       "      <td>1986-12-01</td>\n",
       "    </tr>\n",
       "    <tr>\n",
       "      <th>4</th>\n",
       "      <td>10005</td>\n",
       "      <td>1955-01-21</td>\n",
       "      <td>Kyoichi</td>\n",
       "      <td>Maliniak</td>\n",
       "      <td>M</td>\n",
       "      <td>1989-09-12</td>\n",
       "    </tr>\n",
       "  </tbody>\n",
       "</table>\n",
       "</div>"
      ],
      "text/plain": [
       "      id  birth_date first_name last_name gender   hire_date\n",
       "0  10001  1953-09-02     Georgi   Facello      M  1986-06-26\n",
       "1  10002  1964-06-02    Bezalel    Simmel      F  1985-11-21\n",
       "2  10003  1959-12-03      Parto   Bamford      M  1986-08-28\n",
       "3  10004  1954-05-01  Chirstian   Koblick      M  1986-12-01\n",
       "4  10005  1955-01-21    Kyoichi  Maliniak      M  1989-09-12"
      ]
     },
     "execution_count": 8,
     "metadata": {},
     "output_type": "execute_result"
    }
   ],
   "source": [
    "employee =  pd.read_sql_query(\"select * from employees.employee\",connection)\n",
    "employee.head()"
   ]
  },
  {
   "cell_type": "code",
   "execution_count": 9,
   "id": "f7a0dba1",
   "metadata": {},
   "outputs": [
    {
     "data": {
      "text/html": [
       "<div>\n",
       "<style scoped>\n",
       "    .dataframe tbody tr th:only-of-type {\n",
       "        vertical-align: middle;\n",
       "    }\n",
       "\n",
       "    .dataframe tbody tr th {\n",
       "        vertical-align: top;\n",
       "    }\n",
       "\n",
       "    .dataframe thead th {\n",
       "        text-align: right;\n",
       "    }\n",
       "</style>\n",
       "<table border=\"1\" class=\"dataframe\">\n",
       "  <thead>\n",
       "    <tr style=\"text-align: right;\">\n",
       "      <th></th>\n",
       "      <th>employee_id</th>\n",
       "      <th>amount</th>\n",
       "      <th>from_date</th>\n",
       "      <th>to_date</th>\n",
       "    </tr>\n",
       "  </thead>\n",
       "  <tbody>\n",
       "    <tr>\n",
       "      <th>0</th>\n",
       "      <td>10001</td>\n",
       "      <td>60117</td>\n",
       "      <td>1986-06-26</td>\n",
       "      <td>1987-06-26</td>\n",
       "    </tr>\n",
       "    <tr>\n",
       "      <th>1</th>\n",
       "      <td>10001</td>\n",
       "      <td>62102</td>\n",
       "      <td>1987-06-26</td>\n",
       "      <td>1988-06-25</td>\n",
       "    </tr>\n",
       "    <tr>\n",
       "      <th>2</th>\n",
       "      <td>10001</td>\n",
       "      <td>66074</td>\n",
       "      <td>1988-06-25</td>\n",
       "      <td>1989-06-25</td>\n",
       "    </tr>\n",
       "    <tr>\n",
       "      <th>3</th>\n",
       "      <td>10001</td>\n",
       "      <td>66596</td>\n",
       "      <td>1989-06-25</td>\n",
       "      <td>1990-06-25</td>\n",
       "    </tr>\n",
       "    <tr>\n",
       "      <th>4</th>\n",
       "      <td>10001</td>\n",
       "      <td>66961</td>\n",
       "      <td>1990-06-25</td>\n",
       "      <td>1991-06-25</td>\n",
       "    </tr>\n",
       "  </tbody>\n",
       "</table>\n",
       "</div>"
      ],
      "text/plain": [
       "   employee_id  amount   from_date     to_date\n",
       "0        10001   60117  1986-06-26  1987-06-26\n",
       "1        10001   62102  1987-06-26  1988-06-25\n",
       "2        10001   66074  1988-06-25  1989-06-25\n",
       "3        10001   66596  1989-06-25  1990-06-25\n",
       "4        10001   66961  1990-06-25  1991-06-25"
      ]
     },
     "execution_count": 9,
     "metadata": {},
     "output_type": "execute_result"
    }
   ],
   "source": [
    "salary = pd.read_sql_query(\"select * from employees.salary\",connection)\n",
    "salary.head()"
   ]
  },
  {
   "cell_type": "code",
   "execution_count": 10,
   "id": "726d9d2b",
   "metadata": {},
   "outputs": [
    {
     "data": {
      "text/html": [
       "<div>\n",
       "<style scoped>\n",
       "    .dataframe tbody tr th:only-of-type {\n",
       "        vertical-align: middle;\n",
       "    }\n",
       "\n",
       "    .dataframe tbody tr th {\n",
       "        vertical-align: top;\n",
       "    }\n",
       "\n",
       "    .dataframe thead th {\n",
       "        text-align: right;\n",
       "    }\n",
       "</style>\n",
       "<table border=\"1\" class=\"dataframe\">\n",
       "  <thead>\n",
       "    <tr style=\"text-align: right;\">\n",
       "      <th></th>\n",
       "      <th>employee_id</th>\n",
       "      <th>title</th>\n",
       "      <th>from_date</th>\n",
       "      <th>to_date</th>\n",
       "    </tr>\n",
       "  </thead>\n",
       "  <tbody>\n",
       "    <tr>\n",
       "      <th>0</th>\n",
       "      <td>10001</td>\n",
       "      <td>Senior Engineer</td>\n",
       "      <td>1986-06-26</td>\n",
       "      <td>9999-01-01</td>\n",
       "    </tr>\n",
       "    <tr>\n",
       "      <th>1</th>\n",
       "      <td>10002</td>\n",
       "      <td>Staff</td>\n",
       "      <td>1996-08-03</td>\n",
       "      <td>9999-01-01</td>\n",
       "    </tr>\n",
       "    <tr>\n",
       "      <th>2</th>\n",
       "      <td>10003</td>\n",
       "      <td>Senior Engineer</td>\n",
       "      <td>1995-12-03</td>\n",
       "      <td>9999-01-01</td>\n",
       "    </tr>\n",
       "    <tr>\n",
       "      <th>3</th>\n",
       "      <td>10004</td>\n",
       "      <td>Engineer</td>\n",
       "      <td>1986-12-01</td>\n",
       "      <td>1995-12-01</td>\n",
       "    </tr>\n",
       "    <tr>\n",
       "      <th>4</th>\n",
       "      <td>10004</td>\n",
       "      <td>Senior Engineer</td>\n",
       "      <td>1995-12-01</td>\n",
       "      <td>9999-01-01</td>\n",
       "    </tr>\n",
       "  </tbody>\n",
       "</table>\n",
       "</div>"
      ],
      "text/plain": [
       "   employee_id            title   from_date     to_date\n",
       "0        10001  Senior Engineer  1986-06-26  9999-01-01\n",
       "1        10002            Staff  1996-08-03  9999-01-01\n",
       "2        10003  Senior Engineer  1995-12-03  9999-01-01\n",
       "3        10004         Engineer  1986-12-01  1995-12-01\n",
       "4        10004  Senior Engineer  1995-12-01  9999-01-01"
      ]
     },
     "execution_count": 10,
     "metadata": {},
     "output_type": "execute_result"
    }
   ],
   "source": [
    "title = pd.read_sql_query(\"select * from employees.title\",connection)\n",
    "title.head()"
   ]
  },
  {
   "cell_type": "markdown",
   "id": "2fe30c18",
   "metadata": {},
   "source": [
    "### Find counts of each and every table"
   ]
  },
  {
   "cell_type": "code",
   "execution_count": 11,
   "id": "6c00afd1",
   "metadata": {},
   "outputs": [
    {
     "name": "stdout",
     "output_type": "stream",
     "text": [
      "(9, 2)\n",
      "(331603, 4)\n",
      "(24, 4)\n",
      "(300024, 6)\n",
      "(1141783, 4)\n",
      "(443308, 4)\n"
     ]
    }
   ],
   "source": [
    "print(department_name.shape)\n",
    "print(department_employee.shape)\n",
    "print(department_manager.shape)\n",
    "print(employee.shape)\n",
    "print(salary.shape)\n",
    "print(title.shape)"
   ]
  },
  {
   "cell_type": "markdown",
   "id": "54da5d4c",
   "metadata": {},
   "source": [
    "###  Which department has the highest average salary of active employees ?"
   ]
  },
  {
   "cell_type": "code",
   "execution_count": 24,
   "id": "95670122",
   "metadata": {
    "scrolled": false
   },
   "outputs": [],
   "source": [
    "def get_department_wise_avg_salary():\n",
    "    query = \"\"\" select dept_name ,avg(amount)as avg_salary\n",
    "                from employees.department_employee de\n",
    "                LEFT JOIN employees.salary  s\n",
    "                ON s.employee_id = de.employee_id\n",
    "                LEFT JOIN employees.department d\n",
    "                ON d.id = de.department_id\n",
    "                where extract(year from s.to_date) = 9999 AND extract(year from de.to_date) = 9999\n",
    "                group by dept_name \n",
    "                order by avg_salary desc\"\"\"\n",
    "\n",
    "    connection = connect_to_db()\n",
    "    salary_info_all_dept = pd.read_sql_query(query, connection) \n",
    "    connection.close()  \n",
    "\n",
    "    plt.figure(figsize=(7,5))\n",
    "    sns.barplot(data = salary_info_all_dept, x = \"dept_name\", y = \"avg_salary\")\n",
    "    plt.xlabel(\"Department\")\n",
    "    plt.ylabel(\"Average Salary\")\n",
    "    plt.title(\"Department-wise Average Salary\")\n",
    "    plt.xticks(rotation=90)  \n",
    "    plt.tight_layout()  \n",
    "    plt.show()\n",
    "    return salary_info_all_dept[salary_info_all_dept['avg_salary'] == max(salary_info_all_dept['avg_salary'])]\n"
   ]
  },
  {
   "cell_type": "markdown",
   "id": "d61fef93",
   "metadata": {},
   "source": [
    " Sales Department has the highest average salary then followed by Marketing and Finance"
   ]
  },
  {
   "cell_type": "markdown",
   "id": "61c7389d",
   "metadata": {},
   "source": [
    "### Which title has the highest avg salary?"
   ]
  },
  {
   "cell_type": "code",
   "execution_count": 32,
   "id": "26b3bf5c",
   "metadata": {
    "scrolled": false
   },
   "outputs": [],
   "source": [
    "def get_title_wise_avg_salary():\n",
    "    query = \"\"\" select title ,avg(amount) AS avg_salary\n",
    "            from employees.title t\n",
    "            inner join employees.salary  s\n",
    "            ON t.employee_id = s.employee_id\n",
    "            where extract(year from s.to_date) = 9999 and extract(year from t.to_date) = 9999\n",
    "            group by title \n",
    "            order by avg_salary desc\"\"\"\n",
    "\n",
    "    connection = connect_to_db()\n",
    "    salary_info_all_titles = pd.read_sql_query(query,connection)\n",
    "    connection.close() \n",
    "    \n",
    "    sns.barplot(data = salary_info_all_titles,x = \"title\",y = \"avg_salary\")\n",
    "    plt.xlabel(\"Department\")\n",
    "    plt.ylabel(\"Average Salary\")\n",
    "    plt.title(\"Title-wise Average Salary\")\n",
    "    plt.xticks(rotation=90)  \n",
    "    plt.tight_layout()  \n",
    "    plt.show()\n",
    "    return  salary_info_all_titles[salary_info_all_titles['avg_salary'] == max(salary_info_all_titles['avg_salary'])]"
   ]
  },
  {
   "cell_type": "markdown",
   "id": "767f633a",
   "metadata": {},
   "source": [
    "Senior Staff has the highest average salary followed by staff then manager"
   ]
  },
  {
   "cell_type": "markdown",
   "id": "7f81a2d7",
   "metadata": {},
   "source": [
    "### Distribution of salary across titles."
   ]
  },
  {
   "cell_type": "code",
   "execution_count": 41,
   "id": "89230fe9",
   "metadata": {},
   "outputs": [],
   "source": [
    "def salary_dist_across_titles():\n",
    "    query = \"\"\" select title, sum(amount) as amount \n",
    "            from employees.title t\n",
    "            inner join employees.salary s\n",
    "            on t.employee_id = s.employee_id\n",
    "            where extract(year from s.to_date) = 9999 and extract(year from t.to_date) = 9999\n",
    "            group by title \"\"\"\n",
    "\n",
    "    connection = connect_to_db()\n",
    "    distribution_of_salary_of_titles = pd.read_sql_query(query, connection)\n",
    "    connection.close()  \n",
    "\n",
    "    plt.pie(distribution_of_salary_of_titles['amount'], labels=distribution_of_salary_of_titles['title'], autopct='%1.1f%%')\n",
    "    plt.title(\"Titlewise Salary Distribution\")\n",
    "    plt.axis('equal')  \n",
    "    plt.tight_layout()\n",
    "    plt.show()"
   ]
  },
  {
   "cell_type": "markdown",
   "id": "cfa5f9f4",
   "metadata": {},
   "source": [
    "### Distribution of salary across departments"
   ]
  },
  {
   "cell_type": "code",
   "execution_count": 44,
   "id": "c0a4e068",
   "metadata": {},
   "outputs": [],
   "source": [
    "def salary_dist_across_depts():\n",
    "    query = \"\"\" select dept_name, sum(amount) as amount\n",
    "            from employees.department_employee de\n",
    "            inner join employees.salary s\n",
    "            on de.employee_id= s.employee_id\n",
    "            inner join employees.department d\n",
    "            on d.id = de.department_id\n",
    "            where extract(year from de.to_date) = 9999 and extract(year from s.to_date) = 9999\n",
    "            group by dept_name \"\"\"\n",
    "\n",
    "    connection = connect_to_db()\n",
    "    salary_of_departments = pd.read_sql_query(query,connection)\n",
    "    connection.close()  \n",
    "\n",
    "    plt.pie(salary_of_departments['amount'], labels=salary_of_departments['dept_name'], autopct='%1.1f%%')\n",
    "    plt.title(\"Department-wise Salary Distribution\")\n",
    "    plt.axis('equal') \n",
    "    plt.tight_layout()\n",
    "    plt.show()"
   ]
  },
  {
   "cell_type": "markdown",
   "id": "ec6f85db",
   "metadata": {},
   "source": [
    "###  How many active managers in each department. Is there any department with no manager?\n"
   ]
  },
  {
   "cell_type": "code",
   "execution_count": 53,
   "id": "191256f7",
   "metadata": {
    "scrolled": false
   },
   "outputs": [],
   "source": [
    "def active_manager_in_dept():\n",
    "    query = \"\"\" select dept_name, count(employee_id) as count \n",
    "            from employees.department_manager dm\n",
    "            left join employees.department d\n",
    "            on dm.department_id = d.id\n",
    "            where extract(year from dm.to_date) = 9999\n",
    "            group by dept_name \"\"\"\n",
    "\n",
    "    connection = connect_to_db()\n",
    "    active_managers = pd.read_sql_query(query, connection)\n",
    "    connection.close()  \n",
    "    \n",
    "    sns.countplot(data = active_managers, x = \"dept_name\")\n",
    "    plt.xlabel(\"Department\")\n",
    "    plt.ylabel(\"count of managers\")\n",
    "    plt.title(\"Count of managers\")\n",
    "    plt.xticks(rotation=90)  \n",
    "    plt.tight_layout()  \n",
    "    plt.show()"
   ]
  },
  {
   "cell_type": "markdown",
   "id": "453411a3",
   "metadata": {},
   "source": [
    "For each department there is an active manager"
   ]
  },
  {
   "cell_type": "markdown",
   "id": "33da1836",
   "metadata": {},
   "source": [
    "### Composition of titles department-wise"
   ]
  },
  {
   "cell_type": "code",
   "execution_count": 63,
   "id": "ed7cc038",
   "metadata": {},
   "outputs": [],
   "source": [
    "def title_composition_dept_wise():\n",
    "    query = \"\"\" SELECT d.dept_name as dept_name, t.title as title, count(e.id) as count\n",
    "            FROM employees.employee e\n",
    "            LEFT JOIN employees.title t\n",
    "            ON t.employee_id = e.id\n",
    "            LEFT JOIN employees.department_employee de\n",
    "            ON de.employee_id = e.id\n",
    "            LEFT JOIN employees.department d\n",
    "            ON d.id = de.department_id\n",
    "            where extract(year from t.to_date) = 9999 and extract(year from de.to_date) = 9999\n",
    "            GROUP BY d.dept_name, t.title \"\"\"\n",
    "\n",
    "    connection = connect_to_db()\n",
    "    title_dept_wise = pd.read_sql_query(query, connection)\n",
    "    connection.close()  \n",
    "\n",
    "    plt.figure(figsize=(10, 5))\n",
    "    sns.barplot(x='dept_name',y = \"count\", hue='title', data=title_dept_wise)\n",
    "    plt.title('Distribution of Titles within Departments')\n",
    "    plt.xlabel('Department')\n",
    "    plt.ylabel('Title_count')\n",
    "    plt.xticks(rotation=90)\n",
    "    plt.legend(title='Titles', bbox_to_anchor=(1.05, 1), loc='upper left')\n",
    "    plt.tight_layout()\n",
    "    plt.show()"
   ]
  },
  {
   "cell_type": "markdown",
   "id": "61c85c77",
   "metadata": {},
   "source": [
    "### Composition of departments title-wise."
   ]
  },
  {
   "cell_type": "code",
   "execution_count": 67,
   "id": "fa433929",
   "metadata": {},
   "outputs": [],
   "source": [
    "def dept_composition_title_wise():\n",
    "        query = \"\"\" SELECT t.title as title, d.dept_name as dept_name \n",
    "                FROM employees.employee e\n",
    "                LEFT JOIN employees.title t\n",
    "                ON t.employee_id = e.id\n",
    "                LEFT JOIN employees.department_employee de\n",
    "                ON de.employee_id = e.id\n",
    "                LEFT JOIN employees.department d\n",
    "                ON d.id = de.department_id \n",
    "                where extract(year from t.to_date) = 9999 \"\"\"\n",
    "\n",
    "        connection = connect_to_db()\n",
    "        dept_title_wise = pd.read_sql_query(query, connection)\n",
    "        connection.close()  \n",
    "\n",
    "        plt.figure(figsize=(10, 5))\n",
    "        sns.countplot(x='title', hue='dept_name', data=dept_title_wise)\n",
    "        plt.title('Distribution of Departments within Titles')\n",
    "        plt.xlabel('Titles')\n",
    "        plt.ylabel('Count')\n",
    "        plt.xticks(rotation=90)\n",
    "        plt.legend(title='Departments', bbox_to_anchor=(1.05, 1), loc='upper left')\n",
    "        plt.tight_layout()\n",
    "        plt.grid()\n",
    "        plt.show()"
   ]
  },
  {
   "cell_type": "markdown",
   "id": "8a3d7797",
   "metadata": {},
   "source": [
    "### Salaries of active department managers Which department's manager who is active earns the most?"
   ]
  },
  {
   "cell_type": "code",
   "execution_count": 71,
   "id": "10df1cc5",
   "metadata": {
    "scrolled": false
   },
   "outputs": [],
   "source": [
    "def dept_manager_salaries():\n",
    "    query = \"\"\" SELECT dept_name , sum(amount) as amount\n",
    "                from employees.department_manager dm\n",
    "                inner join employees.salary s \n",
    "                on dm.employee_id = s.employee_id\n",
    "                inner join employees.department d\n",
    "                on d.id = dm.department_id\n",
    "                where extract(year from dm.to_date) = 9999 and extract(year from s.to_date) = 9999\n",
    "                group by dept_name\n",
    "                order by amount desc \"\"\"\n",
    "\n",
    "    connection = connect_to_db()\n",
    "    active_dept_manager_salary = pd.read_sql_query(query, connection)\n",
    "    connection.close()  \n",
    "\n",
    "    sns.barplot(data = active_dept_manager_salary, x = \"dept_name\", y = \"amount\")\n",
    "    plt.xlabel(\"Department\")\n",
    "    plt.ylabel(\"Salary\")\n",
    "    plt.title(\"Salaries of active department managers\")\n",
    "    plt.xticks(rotation=90)  \n",
    "    plt.tight_layout()  \n",
    "    plt.show()\n",
    "    return active_dept_manager_salary[active_dept_manager_salary['amount']==max(active_dept_manager_salary['amount'])]"
   ]
  },
  {
   "cell_type": "markdown",
   "id": "7c4c1eb5",
   "metadata": {},
   "source": [
    "In the marketing department the manager earns the most "
   ]
  },
  {
   "cell_type": "markdown",
   "id": "6157d7b2",
   "metadata": {},
   "source": [
    "### What are the titles of active department managers? "
   ]
  },
  {
   "cell_type": "code",
   "execution_count": 81,
   "id": "5043729f",
   "metadata": {},
   "outputs": [],
   "source": [
    "def get_active_manager_titles():\n",
    "       connection = connect_to_db()\n",
    "       query = \"\"\" select distinct(t.title) from employees.department_manager dm \n",
    "                left join employees.title t \n",
    "                on dm.employee_id = t.employee_id \n",
    "\t\t\t\twhere date_part('year', dm.to_date) =9999 \n",
    "\t\t\t    and date_part('year', t.to_date) = 9999 \"\"\"\n",
    "       active_manager_title = pd.read_sql_query(query, connection)\n",
    "       connection.close()\n",
    "       return active_manager_title['title'].tolist()\n"
   ]
  },
  {
   "cell_type": "markdown",
   "id": "1cbe1dbb",
   "metadata": {},
   "source": [
    "### Past history of salaries of managers across department (yearly)"
   ]
  },
  {
   "cell_type": "code",
   "execution_count": 87,
   "id": "39fc2071",
   "metadata": {},
   "outputs": [],
   "source": [
    "def get_manager_past_salaries_dept_wise():\n",
    "    connection = connect_to_db()\n",
    "    query = \"\"\"SELECT dm.employee_id, d.dept_name, s.amount, s.from_date, s.to_date FROM employees.department_manager dm join employees.salary s \n",
    "              on dm.employee_id = s.employee_id join employees.department d\n",
    "\t\t\t  on d.id = dm.department_id\n",
    "\t\t\t  where s.from_date >= dm.from_date\n",
    "\t\t\t  and s.to_date <= dm.to_date\"\"\"\n",
    "    df= pd.read_sql_query(query, connection)\n",
    "    df['labels'] = df['from_date'].apply(str) + \" to \" + df['to_date'].apply(str)\n",
    "    depts= df['dept_name'].unique()\n",
    "    employees_manager = df['employee_id'].unique()\n",
    "    for i in depts:\n",
    "        for j in employees_manager:\n",
    "            new_df= df[(df['dept_name']==i) & (df['employee_id']==j)]\n",
    "            if not new_df.empty:\n",
    "                my_plot= sns.barplot(x= new_df['labels'], y= new_df['amount'])\n",
    "                for item in my_plot.get_xticklabels():\n",
    "                    item.set_rotation(90)\n",
    "                plt.title(i+str(j))\n",
    "                plt.show()\n",
    "            else:\n",
    "                continue"
   ]
  },
  {
   "cell_type": "markdown",
   "id": "2c70b59e",
   "metadata": {},
   "source": [
    "Marketing department has highest salary for manager "
   ]
  },
  {
   "cell_type": "markdown",
   "id": "cc808606",
   "metadata": {},
   "source": [
    "### Distribution of salaries employees working for more than 10 years vs 4 years vs 1 year."
   ]
  },
  {
   "cell_type": "code",
   "execution_count": 89,
   "id": "00e6c42e",
   "metadata": {
    "scrolled": false
   },
   "outputs": [],
   "source": [
    "def exp_mapper(x):\n",
    "    if x>=10:\n",
    "        return '10+ years'\n",
    "    elif x >=4:\n",
    "        return '4 to 10 years'\n",
    "    elif x >=1:\n",
    "        return '1 to 4 years'\n",
    "    else:\n",
    "        return 'New Joiners'\n",
    "    \n",
    "\n",
    "def get_salary_dist_exp_wise():\n",
    "    connection = connect_to_db()\n",
    "    \n",
    "    query = \"\"\" select s.amount, date_part('year',de.to_date)- date_part('year',de.from_date) as exp \n",
    "\t\t\tfrom employees.department_employee de join  employees.salary s \n",
    "\t\t\ton s.employee_id = de.employee_id\n",
    "\t\t\twhere date_part('year',de.to_date)- date_part('year',de.from_date) <= 60\n",
    "\t\t\tand date_part('year',s.to_date) = 9999;\"\"\"\n",
    "                        \n",
    "    df= pd.read_sql_query(query, connection)\n",
    "    df['exp'] = df['exp'].astype('int')\n",
    "    \n",
    "    ### Aux function to be kept outside ideally\n",
    "    \n",
    "    df['exp_status'] = df['exp'].apply(lambda x: exp_mapper(x))\n",
    "    sns.violinplot(x= df['exp_status'], y = df['amount'])"
   ]
  },
  {
   "cell_type": "markdown",
   "id": "421c9b83",
   "metadata": {},
   "source": [
    "### Average number of years employees work in the company before leaving (title wise)"
   ]
  },
  {
   "cell_type": "code",
   "execution_count": 92,
   "id": "0e1c1b65",
   "metadata": {},
   "outputs": [],
   "source": [
    "def avg_years_in_company_title_wise():\n",
    "    query = \"\"\"SELECT t.title,\n",
    "        AVG(EXTRACT(YEAR FROM t.to_date) - EXTRACT(YEAR FROM e.hire_date)) AS avg_years_before_leaving\n",
    "        FROM  employees.employee e\n",
    "        LEFT JOIN employees.title t \n",
    "        ON t.employee_id = e.id\n",
    "        WHERE date_part('year', t.to_date) != 9999\n",
    "        GROUP BY t.title \"\"\"\n",
    "    connection = connect_to_db()\n",
    "    employees_work_year = pd.read_sql_query(query,connection)\n",
    "    connection.close()  \n",
    "\n",
    "    sns.pointplot(data =employees_work_year, x='title', y='avg_years_before_leaving', color='blue')\n",
    "    plt.xlabel(\"Title\")\n",
    "    plt.ylabel(\"avg_years_before_leaving\")\n",
    "    plt.title(\"Average years before leaving (Title-wise)\")\n",
    "    plt.xticks(rotation=90) \n",
    "    plt.tight_layout()  \n",
    "    plt.show()"
   ]
  },
  {
   "cell_type": "markdown",
   "id": "ba5c1a72",
   "metadata": {},
   "source": [
    "### Average number of years employees work in the company before leaving (Dept wise)"
   ]
  },
  {
   "cell_type": "code",
   "execution_count": 97,
   "id": "24d17880",
   "metadata": {},
   "outputs": [],
   "source": [
    "def avg_years_in_company_department_wise():\n",
    "    query = \"\"\"SELECT d.dept_name,AVG(EXTRACT(YEAR FROM t.to_date) - EXTRACT(YEAR FROM e.hire_date)) AS avg_years_before_leaving\n",
    "            FROM employees.employee e\n",
    "            LEFT JOIN employees.title t\n",
    "            ON t.employee_id = e.id\n",
    "            LEFT JOIN employees.department_employee de\n",
    "            ON de.employee_id = e.id\n",
    "            LEFT JOIN employees.department d \n",
    "            ON d.id = de.department_id\n",
    "            WHERE date_part('year',t.to_date) != 9999 and extract(year from de.to_date) != 9999 \n",
    "            GROUP BY d.dept_name;\n",
    "        \n",
    "                    \"\"\"\n",
    "\n",
    "    connection = connect_to_db()\n",
    "    employees_work_year = pd.read_sql_query(query,connection)\n",
    "    connection.close() \n",
    "\n",
    "    sns.pointplot(data =employees_work_year, x='dept_name', y='avg_years_before_leaving', color='blue')\n",
    "    plt.xlabel(\"dept_name\")\n",
    "    plt.ylabel(\"avg_years_before_leaving\")\n",
    "    plt.title(\"Average years before leaving (Dept-wise)\")\n",
    "    plt.xticks(rotation=90)  \n",
    "    plt.tight_layout()  \n",
    "    plt.show()"
   ]
  },
  {
   "cell_type": "markdown",
   "id": "a21fa221",
   "metadata": {},
   "source": [
    "### Median annual salary increment department wise"
   ]
  },
  {
   "cell_type": "code",
   "execution_count": 102,
   "id": "699fee2f",
   "metadata": {},
   "outputs": [],
   "source": [
    "def get_median_salry_inc_dept_wise():\n",
    "    query = \"\"\"SELECT dept_name, s.amount as salary\n",
    "            FROM employees.department_employee de\n",
    "            left JOIN employees.salary s\n",
    "            ON de.employee_id = s.employee_id\n",
    "            left JOIN employees.department d\n",
    "            ON de.department_id = d.id \"\"\"\n",
    "\n",
    "    connection = connect_to_db()\n",
    "    median_annual_salary = pd.read_sql_query(query,connection)\n",
    "    connection.close()  \n",
    "\n",
    "    median_salary = median_annual_salary.groupby(\"dept_name\")[\"salary\"].median()\n",
    "    median_salary.plot(kind = \"bar\",color='skyblue')\n",
    "    plt.title('Median Salary by Department')\n",
    "    plt.xlabel('Departments')\n",
    "    plt.ylabel('Median Salary')\n",
    "    plt.xticks(rotation=45, ha='right')  \n",
    "    plt.tight_layout()\n",
    "    plt.show()"
   ]
  },
  {
   "cell_type": "markdown",
   "id": "fd5c49bc",
   "metadata": {},
   "source": [
    "Sales has the highest median salary increment then followed by marketing and finance"
   ]
  }
 ],
 "metadata": {
  "kernelspec": {
   "display_name": "Python 3 (ipykernel)",
   "language": "python",
   "name": "python3"
  },
  "language_info": {
   "codemirror_mode": {
    "name": "ipython",
    "version": 3
   },
   "file_extension": ".py",
   "mimetype": "text/x-python",
   "name": "python",
   "nbconvert_exporter": "python",
   "pygments_lexer": "ipython3",
   "version": "3.11.7"
  }
 },
 "nbformat": 4,
 "nbformat_minor": 5
}
